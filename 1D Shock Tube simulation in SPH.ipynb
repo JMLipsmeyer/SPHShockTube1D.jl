{
 "cells": [
  {
   "cell_type": "markdown",
   "metadata": {},
   "source": [
    "# Problem description"
   ]
  },
  {
   "cell_type": "markdown",
   "metadata": {},
   "source": [
    "## Data"
   ]
  },
  {
   "cell_type": "code",
   "execution_count": 3,
   "metadata": {
    "scrolled": true
   },
   "outputs": [],
   "source": [
    "const LEFT_PARTICLES_COUNT = 320\n",
    "const RIGHT_PARTICLES_COUNT = 80\n",
    "const PARTICLES_COUNT = LEFT_PARTICLES_COUNT + RIGHT_PARTICLES_COUNT\n",
    "\n",
    "const RIGHT_MIN = 0\n",
    "const RIGHT_MAX = 0.6\n",
    "const LEFT_MIN = -0.6\n",
    "const LEFT_MAX = RIGHT_MIN - (RIGHT_MIN - LEFT_MIN) / (LEFT_PARTICLES_COUNT + 2)\n",
    "\n",
    "const LEFT_DENSITY = 1.0\n",
    "const LEFT_VELOCITY= 0.0\n",
    "const LEFT_ENERGY = 2.5\n",
    "const LEFT_PRESSURE = 1.0\n",
    "\n",
    "const RIGHT_DENSITY = 0.25\n",
    "const RIGHT_VELOCITY= 0.0\n",
    "const RIGHT_ENERGY = 1.795\n",
    "const RIGHT_PRESSURE = 0.1795\n",
    "\n",
    "const PARTICLE_MASS = 0.001875\n",
    "const GAMMA = 1.4\n",
    "\n",
    "const DX = 0.6/80\n",
    "const HSML = 2.0 * DX\n",
    "\n",
    "const TIME_STEPS = 40\n",
    "const TIME_DELTA = 0.005\n",
    "\n",
    "const FIXED_SIDES_PARTICLES_COUNT = 20;"
   ]
  },
  {
   "cell_type": "markdown",
   "metadata": {},
   "source": [
    "## Particles generation with their respective quantities"
   ]
  },
  {
   "cell_type": "code",
   "execution_count": 6,
   "metadata": {},
   "outputs": [
    {
     "data": {
      "text/plain": [
       "generateQuantities (generic function with 1 method)"
      ]
     },
     "execution_count": 6,
     "metadata": {},
     "output_type": "execute_result"
    }
   ],
   "source": [
    "function generateQuantities()\n",
    "    # Position\n",
    "    x = append!(\n",
    "        [(i)*DX/4 + LEFT_MIN for i in 1:LEFT_PARTICLES_COUNT],\n",
    "        [(i-LEFT_PARTICLES_COUNT-1)*DX + DX/2 for i in LEFT_PARTICLES_COUNT+1:PARTICLES_COUNT]\n",
    "    )\n",
    "    #[(i-LEFT_PARTICLES_COUNT)*DX for i in LEFT_PARTICLES_COUNT+1:PARTICLES_COUNT]\n",
    "    # Density\n",
    "    ρ = append!(LEFT_DENSITY .* ones(LEFT_PARTICLES_COUNT), RIGHT_DENSITY .* ones(RIGHT_PARTICLES_COUNT))\n",
    "    # Energy\n",
    "    u = append!(LEFT_ENERGY .* ones(LEFT_PARTICLES_COUNT), RIGHT_PRESSURE .* ones(RIGHT_PARTICLES_COUNT))\n",
    "    # Velocity\n",
    "    v = zeros(PARTICLES_COUNT)\n",
    "    # Pressure\n",
    "    p = append!(LEFT_PRESSURE .* ones(LEFT_PARTICLES_COUNT), RIGHT_PRESSURE .* ones(RIGHT_PARTICLES_COUNT))\n",
    "\n",
    "    (x, ρ, u, v, p)\n",
    "end"
   ]
  }
 ],
 "metadata": {
  "kernelspec": {
   "display_name": "Julia 1.0.0",
   "language": "julia",
   "name": "julia-1.0"
  },
  "language_info": {
   "file_extension": ".jl",
   "mimetype": "application/julia",
   "name": "julia",
   "version": "1.0.0"
  }
 },
 "nbformat": 4,
 "nbformat_minor": 2
}
